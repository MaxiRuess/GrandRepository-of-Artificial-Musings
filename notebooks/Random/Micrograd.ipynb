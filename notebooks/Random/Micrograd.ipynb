{
 "cells": [
  {
   "cell_type": "code",
   "execution_count": 1,
   "metadata": {},
   "outputs": [],
   "source": [
    "import math \n",
    "import numpy as np \n",
    "import matplotlib.pyplot as plt\n",
    "%matplotlib inline"
   ]
  },
  {
   "cell_type": "code",
   "execution_count": 2,
   "metadata": {},
   "outputs": [],
   "source": [
    "def f(x):\n",
    "    return 3*x**2 - 2*x + 1"
   ]
  },
  {
   "cell_type": "code",
   "execution_count": 3,
   "metadata": {},
   "outputs": [
    {
     "data": {
      "text/plain": [
       "52.75"
      ]
     },
     "execution_count": 3,
     "metadata": {},
     "output_type": "execute_result"
    }
   ],
   "source": [
    "f(4.5)"
   ]
  },
  {
   "cell_type": "code",
   "execution_count": 4,
   "metadata": {},
   "outputs": [
    {
     "data": {
      "text/plain": [
       "array([-5.  , -4.75, -4.5 , -4.25, -4.  , -3.75, -3.5 , -3.25, -3.  ,\n",
       "       -2.75, -2.5 , -2.25, -2.  , -1.75, -1.5 , -1.25, -1.  , -0.75,\n",
       "       -0.5 , -0.25,  0.  ,  0.25,  0.5 ,  0.75,  1.  ,  1.25,  1.5 ,\n",
       "        1.75,  2.  ,  2.25,  2.5 ,  2.75,  3.  ,  3.25,  3.5 ,  3.75,\n",
       "        4.  ,  4.25,  4.5 ,  4.75])"
      ]
     },
     "execution_count": 4,
     "metadata": {},
     "output_type": "execute_result"
    }
   ],
   "source": [
    "xs = np.arange(-5, 5, 0.25)\n",
    "xs"
   ]
  },
  {
   "cell_type": "code",
   "execution_count": 5,
   "metadata": {},
   "outputs": [
    {
     "data": {
      "text/plain": [
       "[<matplotlib.lines.Line2D at 0x7f7e105ce820>]"
      ]
     },
     "execution_count": 5,
     "metadata": {},
     "output_type": "execute_result"
    },
    {
     "data": {
      "image/png": "[encoded data removed]",
      "text/plain": [
       "<Figure size 640x480 with 1 Axes>"
      ]
     },
     "metadata": {},
     "output_type": "display_data"
    }
   ],
   "source": [
    "ys = f(xs)\n",
    "plt.plot(xs, ys)"
   ]
  },
  {
   "cell_type": "code",
   "execution_count": 6,
   "metadata": {},
   "outputs": [
    {
     "name": "stdout",
     "output_type": "stream",
     "text": [
      "Value of X + h: 56.999997400000034\n",
      "Value of X: 57\n",
      "Value of X - h: 57.000002600000045\n",
      "Difference: -2.599999966435007e-06\n",
      "Slope of : -25.99999966435007\n"
     ]
    }
   ],
   "source": [
    "h = 0.0000001\n",
    "x = -4 \n",
    "print(f\"Value of X + h: {f(x+h)}\"), \n",
    "print(f\"Value of X: {f(x)}\"),\n",
    "print(f\"Value of X - h: {f(x-h)}\"),\n",
    "print(f\"Difference: {f(x+h)- f(x)}\"),\n",
    "print(f\"Slope of : {(f(x+h) - f(x))/h}\")\n"
   ]
  },
  {
   "cell_type": "code",
   "execution_count": 7,
   "metadata": {},
   "outputs": [
    {
     "name": "stdout",
     "output_type": "stream",
     "text": [
      "4.0\n"
     ]
    }
   ],
   "source": [
    "a = 2.0 \n",
    "b = -3.0\n",
    "c = 10.0\n",
    "\n",
    "d = a*b + c \n",
    "print(d)"
   ]
  },
  {
   "cell_type": "code",
   "execution_count": 8,
   "metadata": {},
   "outputs": [
    {
     "name": "stdout",
     "output_type": "stream",
     "text": [
      "d1: 4.0\n",
      "d2: 3.9999997\n",
      "Slope of : -2.9999999995311555\n"
     ]
    }
   ],
   "source": [
    "h = 0.0000001\n",
    "\n",
    "# inputs a,b,c \n",
    "\n",
    "d1 = a*b + c\n",
    "a += h \n",
    "d2 = a*b + c\n",
    "\n",
    "print(f\"d1: {d1}\"),\n",
    "print(f\"d2: {d2}\"),\n",
    "print(f\"Slope of : {(d2 - d1)/h}\")"
   ]
  },
  {
   "cell_type": "code",
   "execution_count": 64,
   "metadata": {},
   "outputs": [],
   "source": [
    "class Value: \n",
    "    \n",
    "    def __init__(self, data, _children=(), _op= '', label = ''): \n",
    "        self.data = data\n",
    "        self._prev = set(_children)\n",
    "        self._op = _op\n",
    "        self.label = label\n",
    "        self.grad = 0.0\n",
    "        \n",
    "    def __repr__(self): \n",
    "        return f\"Value(data = {self.data})\"\n",
    "    \n",
    "    def __add__(self, other): \n",
    "        out = Value(self.data + other.data, (self, other), '+')\n",
    "        return out\n",
    "    \n",
    "    def __mul__(self, other): \n",
    "        out = Value(self.data * other.data, (self, other), '*')\n",
    "        return out\n",
    "    \n",
    "    def tanh(self): \n",
    "        n = self.data\n",
    "        t = (math.exp(2*n) - 1)/(math.exp(2*n) + 1)\n",
    "        out = Value(t, (self,), 'tanh')\n",
    "        return out"
   ]
  },
  {
   "cell_type": "code",
   "execution_count": 33,
   "metadata": {},
   "outputs": [],
   "source": [
    "a = Value(2.0, label = 'a')\n",
    "b = Value(-3, label = 'b')\n",
    "c= Value(10, label = 'c')\n",
    "e = a*b; e.label = 'e'\n",
    "d = e + c; d.label = 'd'\n",
    "f = Value(-2.0 , label = 'f')\n",
    "\n",
    "L = d * f;L.label = 'L'"
   ]
  },
  {
   "cell_type": "code",
   "execution_count": 34,
   "metadata": {},
   "outputs": [],
   "source": [
    "from graphviz import Digraph\n",
    "\n",
    "def trace(root):\n",
    "  nodes, edges = set(), set()\n",
    "  def build(v):\n",
    "    if v not in nodes:\n",
    "      nodes.add(v)\n",
    "      for child in v._prev:\n",
    "        edges.add((child, v))\n",
    "        build(child)\n",
    "  build(root)\n",
    "  return nodes, edges\n",
    "\n",
    "def draw_dot(root):\n",
    "  dot = Digraph(format='svg', graph_attr={'rankdir': 'LR'})\n",
    "  \n",
    "  nodes, edges = trace(root)\n",
    "  for n in nodes:\n",
    "    uid = str(id(n))\n",
    "    dot.node(name = uid, label = \"{ %s | data %.4f | grad %.4f }\" % (n.label, n.data, n.grad), shape='record')\n",
    "    if n._op:\n",
    "      dot.node(name = uid + n._op, label = n._op)\n",
    "      dot.edge(uid + n._op, uid)\n",
    "\n",
    "  for n1, n2 in edges:\n",
    "    dot.edge(str(id(n1)), str(id(n2)) + n2._op)\n",
    "\n",
    "  return dot"
   ]
  },
  {
   "cell_type": "code",
   "execution_count": 57,
   "metadata": {},
   "outputs": [
    {
     "data": {
      "image/svg+xml": [
       "<?xml version=\"1.0\" encoding=\"UTF-8\" standalone=\"no\"?>\n",
       "<!DOCTYPE svg PUBLIC \"-//W3C//DTD SVG 1.1//EN\"\n",
       " \"http://www.w3.org/Graphics/SVG/1.1/DTD/svg11.dtd\">\n",
       "<!-- Generated by graphviz version 10.0.1 (20240210.2158)\n",
       " -->\n",
       "<!-- Pages: 1 -->\n",
       "<svg width=\"1151pt\" height=\"156pt\"\n",
       " viewBox=\"0.00 0.00 1151.00 156.00\" xmlns=\"http://www.w3.org/2000/svg\" xmlns:xlink=\"http://www.w3.org/1999/xlink\">\n",
       "<g id=\"graph0\" class=\"graph\" transform=\"scale(1 1) rotate(0) translate(4 152)\">\n",
       "<polygon fill=\"white\" stroke=\"none\" points=\"-4,4 -4,-152 1147,-152 1147,4 -4,4\"/>\n",
       "<!-- 140180230341632 -->\n",
       "<g id=\"node1\" class=\"node\">\n",
       "<title>140180230341632</title>\n",
       "<polygon fill=\"none\" stroke=\"black\" points=\"953.25,-27.5 953.25,-63.5 1143,-63.5 1143,-27.5 953.25,-27.5\"/>\n",
       "<text text-anchor=\"middle\" x=\"965.38\" y=\"-40.7\" font-family=\"Times,serif\" font-size=\"14.00\">L</text>\n",
       "<polyline fill=\"none\" stroke=\"black\" points=\"977.5,-28 977.5,-63.5\"/>\n",
       "<text text-anchor=\"middle\" x=\"1019.62\" y=\"-40.7\" font-family=\"Times,serif\" font-size=\"14.00\">data &#45;8.0000</text>\n",
       "<polyline fill=\"none\" stroke=\"black\" points=\"1061.75,-28 1061.75,-63.5\"/>\n",
       "<text text-anchor=\"middle\" x=\"1102.38\" y=\"-40.7\" font-family=\"Times,serif\" font-size=\"14.00\">grad 1.0000</text>\n",
       "</g>\n",
       "<!-- 140180230341632* -->\n",
       "<g id=\"node2\" class=\"node\">\n",
       "<title>140180230341632*</title>\n",
       "<ellipse fill=\"none\" stroke=\"black\" cx=\"890.25\" cy=\"-45.5\" rx=\"27\" ry=\"18\"/>\n",
       "<text text-anchor=\"middle\" x=\"890.25\" y=\"-40.45\" font-family=\"Times,serif\" font-size=\"14.00\">*</text>\n",
       "</g>\n",
       "<!-- 140180230341632*&#45;&gt;140180230341632 -->\n",
       "<g id=\"edge1\" class=\"edge\">\n",
       "<title>140180230341632*&#45;&gt;140180230341632</title>\n",
       "<path fill=\"none\" stroke=\"black\" d=\"M917.69,-45.5C924.84,-45.5 933.03,-45.5 941.74,-45.5\"/>\n",
       "<polygon fill=\"black\" stroke=\"black\" points=\"941.51,-49 951.51,-45.5 941.51,-42 941.51,-49\"/>\n",
       "</g>\n",
       "<!-- 140180230343696 -->\n",
       "<g id=\"node3\" class=\"node\">\n",
       "<title>140180230343696</title>\n",
       "<polygon fill=\"none\" stroke=\"black\" points=\"319.88,-83.5 319.88,-119.5 511.88,-119.5 511.88,-83.5 319.88,-83.5\"/>\n",
       "<text text-anchor=\"middle\" x=\"330.88\" y=\"-96.7\" font-family=\"Times,serif\" font-size=\"14.00\">e</text>\n",
       "<polyline fill=\"none\" stroke=\"black\" points=\"341.88,-84 341.88,-119.5\"/>\n",
       "<text text-anchor=\"middle\" x=\"384\" y=\"-96.7\" font-family=\"Times,serif\" font-size=\"14.00\">data &#45;6.0000</text>\n",
       "<polyline fill=\"none\" stroke=\"black\" points=\"426.12,-84 426.12,-119.5\"/>\n",
       "<text text-anchor=\"middle\" x=\"469\" y=\"-96.7\" font-family=\"Times,serif\" font-size=\"14.00\">grad &#45;2.0000</text>\n",
       "</g>\n",
       "<!-- 140180230341536+ -->\n",
       "<g id=\"node8\" class=\"node\">\n",
       "<title>140180230341536+</title>\n",
       "<ellipse fill=\"none\" stroke=\"black\" cx=\"576\" cy=\"-73.5\" rx=\"27\" ry=\"18\"/>\n",
       "<text text-anchor=\"middle\" x=\"576\" y=\"-68.45\" font-family=\"Times,serif\" font-size=\"14.00\">+</text>\n",
       "</g>\n",
       "<!-- 140180230343696&#45;&gt;140180230341536+ -->\n",
       "<g id=\"edge8\" class=\"edge\">\n",
       "<title>140180230343696&#45;&gt;140180230341536+</title>\n",
       "<path fill=\"none\" stroke=\"black\" d=\"M512.05,-84.65C521.28,-83.01 530.2,-81.43 538.29,-80\"/>\n",
       "<polygon fill=\"black\" stroke=\"black\" points=\"538.74,-83.47 547.98,-78.28 537.52,-76.58 538.74,-83.47\"/>\n",
       "</g>\n",
       "<!-- 140180230343696* -->\n",
       "<g id=\"node4\" class=\"node\">\n",
       "<title>140180230343696*</title>\n",
       "<ellipse fill=\"none\" stroke=\"black\" cx=\"255.75\" cy=\"-101.5\" rx=\"27\" ry=\"18\"/>\n",
       "<text text-anchor=\"middle\" x=\"255.75\" y=\"-96.45\" font-family=\"Times,serif\" font-size=\"14.00\">*</text>\n",
       "</g>\n",
       "<!-- 140180230343696*&#45;&gt;140180230343696 -->\n",
       "<g id=\"edge2\" class=\"edge\">\n",
       "<title>140180230343696*&#45;&gt;140180230343696</title>\n",
       "<path fill=\"none\" stroke=\"black\" d=\"M283.22,-101.5C290.59,-101.5 299.09,-101.5 308.13,-101.5\"/>\n",
       "<polygon fill=\"black\" stroke=\"black\" points=\"307.89,-105 317.89,-101.5 307.89,-98 307.89,-105\"/>\n",
       "</g>\n",
       "<!-- 140180230341776 -->\n",
       "<g id=\"node5\" class=\"node\">\n",
       "<title>140180230341776</title>\n",
       "<polygon fill=\"none\" stroke=\"black\" points=\"0,-111.5 0,-147.5 192.75,-147.5 192.75,-111.5 0,-111.5\"/>\n",
       "<text text-anchor=\"middle\" x=\"11.38\" y=\"-124.7\" font-family=\"Times,serif\" font-size=\"14.00\">b</text>\n",
       "<polyline fill=\"none\" stroke=\"black\" points=\"22.75,-112 22.75,-147.5\"/>\n",
       "<text text-anchor=\"middle\" x=\"64.88\" y=\"-124.7\" font-family=\"Times,serif\" font-size=\"14.00\">data &#45;3.0000</text>\n",
       "<polyline fill=\"none\" stroke=\"black\" points=\"107,-112 107,-147.5\"/>\n",
       "<text text-anchor=\"middle\" x=\"149.88\" y=\"-124.7\" font-family=\"Times,serif\" font-size=\"14.00\">grad &#45;4.0000</text>\n",
       "</g>\n",
       "<!-- 140180230341776&#45;&gt;140180230343696* -->\n",
       "<g id=\"edge4\" class=\"edge\">\n",
       "<title>140180230341776&#45;&gt;140180230343696*</title>\n",
       "<path fill=\"none\" stroke=\"black\" d=\"M193,-112.49C201.81,-110.92 210.32,-109.41 218.06,-108.03\"/>\n",
       "<polygon fill=\"black\" stroke=\"black\" points=\"218.43,-111.52 227.66,-106.32 217.21,-104.62 218.43,-111.52\"/>\n",
       "</g>\n",
       "<!-- 140180230344608 -->\n",
       "<g id=\"node6\" class=\"node\">\n",
       "<title>140180230344608</title>\n",
       "<polygon fill=\"none\" stroke=\"black\" points=\"4.88,-56.5 4.88,-92.5 187.88,-92.5 187.88,-56.5 4.88,-56.5\"/>\n",
       "<text text-anchor=\"middle\" x=\"15.88\" y=\"-69.7\" font-family=\"Times,serif\" font-size=\"14.00\">a</text>\n",
       "<polyline fill=\"none\" stroke=\"black\" points=\"26.88,-57 26.88,-92.5\"/>\n",
       "<text text-anchor=\"middle\" x=\"66.75\" y=\"-69.7\" font-family=\"Times,serif\" font-size=\"14.00\">data 2.0000</text>\n",
       "<polyline fill=\"none\" stroke=\"black\" points=\"106.62,-57 106.62,-92.5\"/>\n",
       "<text text-anchor=\"middle\" x=\"147.25\" y=\"-69.7\" font-family=\"Times,serif\" font-size=\"14.00\">grad 6.0000</text>\n",
       "</g>\n",
       "<!-- 140180230344608&#45;&gt;140180230343696* -->\n",
       "<g id=\"edge6\" class=\"edge\">\n",
       "<title>140180230344608&#45;&gt;140180230343696*</title>\n",
       "<path fill=\"none\" stroke=\"black\" d=\"M188.01,-90.05C198.46,-91.84 208.62,-93.59 217.74,-95.15\"/>\n",
       "<polygon fill=\"black\" stroke=\"black\" points=\"217.11,-98.59 227.56,-96.84 218.3,-91.69 217.11,-98.59\"/>\n",
       "</g>\n",
       "<!-- 140180230341536 -->\n",
       "<g id=\"node7\" class=\"node\">\n",
       "<title>140180230341536</title>\n",
       "<polygon fill=\"none\" stroke=\"black\" points=\"639,-55.5 639,-91.5 827.25,-91.5 827.25,-55.5 639,-55.5\"/>\n",
       "<text text-anchor=\"middle\" x=\"650.38\" y=\"-68.7\" font-family=\"Times,serif\" font-size=\"14.00\">d</text>\n",
       "<polyline fill=\"none\" stroke=\"black\" points=\"661.75,-56 661.75,-91.5\"/>\n",
       "<text text-anchor=\"middle\" x=\"701.62\" y=\"-68.7\" font-family=\"Times,serif\" font-size=\"14.00\">data 4.0000</text>\n",
       "<polyline fill=\"none\" stroke=\"black\" points=\"741.5,-56 741.5,-91.5\"/>\n",
       "<text text-anchor=\"middle\" x=\"784.38\" y=\"-68.7\" font-family=\"Times,serif\" font-size=\"14.00\">grad &#45;2.0000</text>\n",
       "</g>\n",
       "<!-- 140180230341536&#45;&gt;140180230341632* -->\n",
       "<g id=\"edge7\" class=\"edge\">\n",
       "<title>140180230341536&#45;&gt;140180230341632*</title>\n",
       "<path fill=\"none\" stroke=\"black\" d=\"M827.49,-56.65C836.36,-55.05 844.93,-53.5 852.73,-52.09\"/>\n",
       "<polygon fill=\"black\" stroke=\"black\" points=\"853.2,-55.56 862.42,-50.34 851.95,-48.68 853.2,-55.56\"/>\n",
       "</g>\n",
       "<!-- 140180230341536+&#45;&gt;140180230341536 -->\n",
       "<g id=\"edge3\" class=\"edge\">\n",
       "<title>140180230341536+&#45;&gt;140180230341536</title>\n",
       "<path fill=\"none\" stroke=\"black\" d=\"M603.31,-73.5C610.49,-73.5 618.72,-73.5 627.47,-73.5\"/>\n",
       "<polygon fill=\"black\" stroke=\"black\" points=\"627.29,-77 637.29,-73.5 627.29,-70 627.29,-77\"/>\n",
       "</g>\n",
       "<!-- 140180230341584 -->\n",
       "<g id=\"node9\" class=\"node\">\n",
       "<title>140180230341584</title>\n",
       "<polygon fill=\"none\" stroke=\"black\" points=\"640.12,-0.5 640.12,-36.5 826.12,-36.5 826.12,-0.5 640.12,-0.5\"/>\n",
       "<text text-anchor=\"middle\" x=\"650.38\" y=\"-13.7\" font-family=\"Times,serif\" font-size=\"14.00\">f</text>\n",
       "<polyline fill=\"none\" stroke=\"black\" points=\"660.62,-1 660.62,-36.5\"/>\n",
       "<text text-anchor=\"middle\" x=\"702.75\" y=\"-13.7\" font-family=\"Times,serif\" font-size=\"14.00\">data &#45;2.0000</text>\n",
       "<polyline fill=\"none\" stroke=\"black\" points=\"744.88,-1 744.88,-36.5\"/>\n",
       "<text text-anchor=\"middle\" x=\"785.5\" y=\"-13.7\" font-family=\"Times,serif\" font-size=\"14.00\">grad 4.0000</text>\n",
       "</g>\n",
       "<!-- 140180230341584&#45;&gt;140180230341632* -->\n",
       "<g id=\"edge9\" class=\"edge\">\n",
       "<title>140180230341584&#45;&gt;140180230341632*</title>\n",
       "<path fill=\"none\" stroke=\"black\" d=\"M826.6,-34.6C835.76,-36.19 844.62,-37.73 852.67,-39.13\"/>\n",
       "<polygon fill=\"black\" stroke=\"black\" points=\"851.85,-42.54 862.3,-40.81 853.05,-35.65 851.85,-42.54\"/>\n",
       "</g>\n",
       "<!-- 140180230343648 -->\n",
       "<g id=\"node10\" class=\"node\">\n",
       "<title>140180230343648</title>\n",
       "<polygon fill=\"none\" stroke=\"black\" points=\"318.75,-28.5 318.75,-64.5 513,-64.5 513,-28.5 318.75,-28.5\"/>\n",
       "<text text-anchor=\"middle\" x=\"329.75\" y=\"-41.7\" font-family=\"Times,serif\" font-size=\"14.00\">c</text>\n",
       "<polyline fill=\"none\" stroke=\"black\" points=\"340.75,-29 340.75,-64.5\"/>\n",
       "<text text-anchor=\"middle\" x=\"384\" y=\"-41.7\" font-family=\"Times,serif\" font-size=\"14.00\">data 10.0000</text>\n",
       "<polyline fill=\"none\" stroke=\"black\" points=\"427.25,-29 427.25,-64.5\"/>\n",
       "<text text-anchor=\"middle\" x=\"470.12\" y=\"-41.7\" font-family=\"Times,serif\" font-size=\"14.00\">grad &#45;2.0000</text>\n",
       "</g>\n",
       "<!-- 140180230343648&#45;&gt;140180230341536+ -->\n",
       "<g id=\"edge5\" class=\"edge\">\n",
       "<title>140180230343648&#45;&gt;140180230341536+</title>\n",
       "<path fill=\"none\" stroke=\"black\" d=\"M513.41,-62.98C522.1,-64.47 530.5,-65.9 538.15,-67.21\"/>\n",
       "<polygon fill=\"black\" stroke=\"black\" points=\"537.55,-70.66 548,-68.89 538.73,-63.76 537.55,-70.66\"/>\n",
       "</g>\n",
       "</g>\n",
       "</svg>\n"
      ],
      "text/plain": [
       "<graphviz.graphs.Digraph at 0x7f7e40d58cd0>"
      ]
     },
     "execution_count": 57,
     "metadata": {},
     "output_type": "execute_result"
    }
   ],
   "source": [
    "draw_dot(L)"
   ]
  },
  {
   "cell_type": "code",
   "execution_count": 60,
   "metadata": {},
   "outputs": [
    {
     "name": "stdout",
     "output_type": "stream",
     "text": [
      "-7.286496\n"
     ]
    }
   ],
   "source": [
    "a.data += 0.01 * a.grad\n",
    "b.data += 0.01 * b.grad\n",
    "c.data += 0.01 * c.grad\n",
    "f.data += 0.01 * f.grad\n",
    "\n",
    "e = a*b; \n",
    "d = e + c\n",
    "\n",
    "L = d * f\n",
    "print(L.data)"
   ]
  },
  {
   "cell_type": "code",
   "execution_count": 59,
   "metadata": {},
   "outputs": [
    {
     "name": "stdout",
     "output_type": "stream",
     "text": [
      "-3.9999999999995595\n"
     ]
    }
   ],
   "source": [
    "def lol(): \n",
    "     \n",
    "    h = 0.001   \n",
    "\n",
    "    a = Value(2.0, label = 'a')\n",
    "    b = Value(-3, label = 'b')\n",
    "    c= Value(10, label = 'c')\n",
    "    e = a*b; e.label = 'e'\n",
    "    d = e + c; d.label = 'd'\n",
    "    f = Value(-2.0 , label = 'f')\n",
    "\n",
    "    L = d * f;L.label = 'L'\n",
    "    L1 = L.data\n",
    "    \n",
    "    a = Value(2.0 , label = 'a')\n",
    "    b = Value(-3 , label = 'b')\n",
    "    c= Value(10, label = 'c')\n",
    "    e = a*b; e.label = 'e'\n",
    "\n",
    "    d = e + c; d.label = 'd'\n",
    "    f = Value(-2.0 , label = 'f')\n",
    "\n",
    "    L = d * f;L.label = 'L'\n",
    "    L2 = L.data\n",
    "    \n",
    "    print((L2 - L1)/ h )\n",
    "    \n",
    "lol()"
   ]
  },
  {
   "cell_type": "code",
   "execution_count": 61,
   "metadata": {},
   "outputs": [
    {
     "data": {
      "image/png": "[encoded data removed]",
      "text/plain": [
       "<Figure size 640x480 with 1 Axes>"
      ]
     },
     "metadata": {},
     "output_type": "display_data"
    }
   ],
   "source": [
    "plt.plot(np.arange(-5, 5, 0.25), np.tanh(np.arange(-5, 5, 0.25))); plt.grid()"
   ]
  },
  {
   "cell_type": "code",
   "execution_count": 70,
   "metadata": {},
   "outputs": [],
   "source": [
    "# Inputs\n",
    "x1 = Value(2.0, label = 'x1')\n",
    "x2 = Value(0.0, label = 'x2')\n",
    "# Weights\n",
    "w1 = Value(-3.0, label = 'w1')\n",
    "w2 = Value(1.0, label = 'w2')\n",
    "# bias \n",
    "b = Value(8, label = 'b')\n",
    "x1w1 = x1 * w1; x1w1.label = 'x1w1'\n",
    "x2w2 = x2 * w2; x2w2.label = 'x2w2'\n",
    "x1w1x2w2 = x1w1 + x2w2; x1w1x2w2.label = 'x1w1 + x2w2'\n",
    "n = x1w1x2w2 + b; n.label = 'n'\n",
    "\n",
    "o = n.tanh();o.label = 'o'"
   ]
  },
  {
   "cell_type": "code",
   "execution_count": 85,
   "metadata": {},
   "outputs": [
    {
     "data": {
      "image/svg+xml": [
       "<?xml version=\"1.0\" encoding=\"UTF-8\" standalone=\"no\"?>\n",
       "<!DOCTYPE svg PUBLIC \"-//W3C//DTD SVG 1.1//EN\"\n",
       " \"http://www.w3.org/Graphics/SVG/1.1/DTD/svg11.dtd\">\n",
       "<!-- Generated by graphviz version 10.0.1 (20240210.2158)\n",
       " -->\n",
       "<!-- Pages: 1 -->\n",
       "<svg width=\"1546pt\" height=\"210pt\"\n",
       " viewBox=\"0.00 0.00 1546.25 210.00\" xmlns=\"http://www.w3.org/2000/svg\" xmlns:xlink=\"http://www.w3.org/1999/xlink\">\n",
       "<g id=\"graph0\" class=\"graph\" transform=\"scale(1 1) rotate(0) translate(4 206)\">\n",
       "<polygon fill=\"white\" stroke=\"none\" points=\"-4,4 -4,-206 1542.25,-206 1542.25,4 -4,4\"/>\n",
       "<!-- 140179417835072 -->\n",
       "<g id=\"node1\" class=\"node\">\n",
       "<title>140179417835072</title>\n",
       "<polygon fill=\"none\" stroke=\"black\" points=\"3.75,-165.5 3.75,-201.5 194.25,-201.5 194.25,-165.5 3.75,-165.5\"/>\n",
       "<text text-anchor=\"middle\" x=\"18.5\" y=\"-178.7\" font-family=\"Times,serif\" font-size=\"14.00\">x2</text>\n",
       "<polyline fill=\"none\" stroke=\"black\" points=\"33.25,-166 33.25,-201.5\"/>\n",
       "<text text-anchor=\"middle\" x=\"73.12\" y=\"-178.7\" font-family=\"Times,serif\" font-size=\"14.00\">data 0.0000</text>\n",
       "<polyline fill=\"none\" stroke=\"black\" points=\"113,-166 113,-201.5\"/>\n",
       "<text text-anchor=\"middle\" x=\"153.62\" y=\"-178.7\" font-family=\"Times,serif\" font-size=\"14.00\">grad 0.0707</text>\n",
       "</g>\n",
       "<!-- 140179417835840* -->\n",
       "<g id=\"node10\" class=\"node\">\n",
       "<title>140179417835840*</title>\n",
       "<ellipse fill=\"none\" stroke=\"black\" cx=\"261\" cy=\"-128.5\" rx=\"27\" ry=\"18\"/>\n",
       "<text text-anchor=\"middle\" x=\"261\" y=\"-123.45\" font-family=\"Times,serif\" font-size=\"14.00\">*</text>\n",
       "</g>\n",
       "<!-- 140179417835072&#45;&gt;140179417835840* -->\n",
       "<g id=\"edge11\" class=\"edge\">\n",
       "<title>140179417835072&#45;&gt;140179417835840*</title>\n",
       "<path fill=\"none\" stroke=\"black\" d=\"M172.12,-165.01C180.9,-162.35 189.7,-159.5 198,-156.5 208.09,-152.86 218.82,-148.27 228.47,-143.88\"/>\n",
       "<polygon fill=\"black\" stroke=\"black\" points=\"229.86,-147.09 237.45,-139.69 226.9,-140.75 229.86,-147.09\"/>\n",
       "</g>\n",
       "<!-- 140179682302560 -->\n",
       "<g id=\"node2\" class=\"node\">\n",
       "<title>140179682302560</title>\n",
       "<polygon fill=\"none\" stroke=\"black\" points=\"1354.5,-54.5 1354.5,-90.5 1538.25,-90.5 1538.25,-54.5 1354.5,-54.5\"/>\n",
       "<text text-anchor=\"middle\" x=\"1365.88\" y=\"-67.7\" font-family=\"Times,serif\" font-size=\"14.00\">o</text>\n",
       "<polyline fill=\"none\" stroke=\"black\" points=\"1377.25,-55 1377.25,-90.5\"/>\n",
       "<text text-anchor=\"middle\" x=\"1417.12\" y=\"-67.7\" font-family=\"Times,serif\" font-size=\"14.00\">data 0.9640</text>\n",
       "<polyline fill=\"none\" stroke=\"black\" points=\"1457,-55 1457,-90.5\"/>\n",
       "<text text-anchor=\"middle\" x=\"1497.62\" y=\"-67.7\" font-family=\"Times,serif\" font-size=\"14.00\">grad 1.0000</text>\n",
       "</g>\n",
       "<!-- 140179682302560tanh -->\n",
       "<g id=\"node3\" class=\"node\">\n",
       "<title>140179682302560tanh</title>\n",
       "<ellipse fill=\"none\" stroke=\"black\" cx=\"1291.5\" cy=\"-72.5\" rx=\"27\" ry=\"18\"/>\n",
       "<text text-anchor=\"middle\" x=\"1291.5\" y=\"-67.45\" font-family=\"Times,serif\" font-size=\"14.00\">tanh</text>\n",
       "</g>\n",
       "<!-- 140179682302560tanh&#45;&gt;140179682302560 -->\n",
       "<g id=\"edge1\" class=\"edge\">\n",
       "<title>140179682302560tanh&#45;&gt;140179682302560</title>\n",
       "<path fill=\"none\" stroke=\"black\" d=\"M1318.78,-72.5C1325.92,-72.5 1334.11,-72.5 1342.82,-72.5\"/>\n",
       "<polygon fill=\"black\" stroke=\"black\" points=\"1342.56,-76 1352.56,-72.5 1342.56,-69 1342.56,-76\"/>\n",
       "</g>\n",
       "<!-- 140179417836176 -->\n",
       "<g id=\"node4\" class=\"node\">\n",
       "<title>140179417836176</title>\n",
       "<polygon fill=\"none\" stroke=\"black\" points=\"698.25,-27.5 698.25,-63.5 882,-63.5 882,-27.5 698.25,-27.5\"/>\n",
       "<text text-anchor=\"middle\" x=\"709.62\" y=\"-40.7\" font-family=\"Times,serif\" font-size=\"14.00\">b</text>\n",
       "<polyline fill=\"none\" stroke=\"black\" points=\"721,-28 721,-63.5\"/>\n",
       "<text text-anchor=\"middle\" x=\"760.88\" y=\"-40.7\" font-family=\"Times,serif\" font-size=\"14.00\">data 8.0000</text>\n",
       "<polyline fill=\"none\" stroke=\"black\" points=\"800.75,-28 800.75,-63.5\"/>\n",
       "<text text-anchor=\"middle\" x=\"841.38\" y=\"-40.7\" font-family=\"Times,serif\" font-size=\"14.00\">grad 0.0707</text>\n",
       "</g>\n",
       "<!-- 140179682303952+ -->\n",
       "<g id=\"node15\" class=\"node\">\n",
       "<title>140179682303952+</title>\n",
       "<ellipse fill=\"none\" stroke=\"black\" cx=\"981.75\" cy=\"-72.5\" rx=\"27\" ry=\"18\"/>\n",
       "<text text-anchor=\"middle\" x=\"981.75\" y=\"-67.45\" font-family=\"Times,serif\" font-size=\"14.00\">+</text>\n",
       "</g>\n",
       "<!-- 140179417836176&#45;&gt;140179682303952+ -->\n",
       "<g id=\"edge8\" class=\"edge\">\n",
       "<title>140179417836176&#45;&gt;140179682303952+</title>\n",
       "<path fill=\"none\" stroke=\"black\" d=\"M882.33,-58.49C904.17,-61.6 926.27,-64.74 943.98,-67.26\"/>\n",
       "<polygon fill=\"black\" stroke=\"black\" points=\"943.32,-70.71 953.71,-68.65 944.3,-63.78 943.32,-70.71\"/>\n",
       "</g>\n",
       "<!-- 140179417836272 -->\n",
       "<g id=\"node5\" class=\"node\">\n",
       "<title>140179417836272</title>\n",
       "<polygon fill=\"none\" stroke=\"black\" points=\"324,-55.5 324,-91.5 535.5,-91.5 535.5,-55.5 324,-55.5\"/>\n",
       "<text text-anchor=\"middle\" x=\"347\" y=\"-68.7\" font-family=\"Times,serif\" font-size=\"14.00\">x1w1</text>\n",
       "<polyline fill=\"none\" stroke=\"black\" points=\"370,-56 370,-91.5\"/>\n",
       "<text text-anchor=\"middle\" x=\"412.12\" y=\"-68.7\" font-family=\"Times,serif\" font-size=\"14.00\">data &#45;6.0000</text>\n",
       "<polyline fill=\"none\" stroke=\"black\" points=\"454.25,-56 454.25,-91.5\"/>\n",
       "<text text-anchor=\"middle\" x=\"494.88\" y=\"-68.7\" font-family=\"Times,serif\" font-size=\"14.00\">grad 0.0707</text>\n",
       "</g>\n",
       "<!-- 140179417835888+ -->\n",
       "<g id=\"node13\" class=\"node\">\n",
       "<title>140179417835888+</title>\n",
       "<ellipse fill=\"none\" stroke=\"black\" cx=\"598.5\" cy=\"-100.5\" rx=\"27\" ry=\"18\"/>\n",
       "<text text-anchor=\"middle\" x=\"598.5\" y=\"-95.45\" font-family=\"Times,serif\" font-size=\"14.00\">+</text>\n",
       "</g>\n",
       "<!-- 140179417836272&#45;&gt;140179417835888+ -->\n",
       "<g id=\"edge10\" class=\"edge\">\n",
       "<title>140179417836272&#45;&gt;140179417835888+</title>\n",
       "<path fill=\"none\" stroke=\"black\" d=\"M535.88,-90.52C544.59,-91.93 552.96,-93.29 560.56,-94.52\"/>\n",
       "<polygon fill=\"black\" stroke=\"black\" points=\"559.91,-97.96 570.34,-96.1 561.03,-91.05 559.91,-97.96\"/>\n",
       "</g>\n",
       "<!-- 140179417836272* -->\n",
       "<g id=\"node6\" class=\"node\">\n",
       "<title>140179417836272*</title>\n",
       "<ellipse fill=\"none\" stroke=\"black\" cx=\"261\" cy=\"-73.5\" rx=\"27\" ry=\"18\"/>\n",
       "<text text-anchor=\"middle\" x=\"261\" y=\"-68.45\" font-family=\"Times,serif\" font-size=\"14.00\">*</text>\n",
       "</g>\n",
       "<!-- 140179417836272*&#45;&gt;140179417836272 -->\n",
       "<g id=\"edge2\" class=\"edge\">\n",
       "<title>140179417836272*&#45;&gt;140179417836272</title>\n",
       "<path fill=\"none\" stroke=\"black\" d=\"M288.42,-73.5C295.52,-73.5 303.68,-73.5 312.42,-73.5\"/>\n",
       "<polygon fill=\"black\" stroke=\"black\" points=\"312.24,-77 322.24,-73.5 312.24,-70 312.24,-77\"/>\n",
       "</g>\n",
       "<!-- 140179417835264 -->\n",
       "<g id=\"node7\" class=\"node\">\n",
       "<title>140179417835264</title>\n",
       "<polygon fill=\"none\" stroke=\"black\" points=\"1.5,-55.5 1.5,-91.5 196.5,-91.5 196.5,-55.5 1.5,-55.5\"/>\n",
       "<text text-anchor=\"middle\" x=\"16.25\" y=\"-68.7\" font-family=\"Times,serif\" font-size=\"14.00\">x1</text>\n",
       "<polyline fill=\"none\" stroke=\"black\" points=\"31,-56 31,-91.5\"/>\n",
       "<text text-anchor=\"middle\" x=\"70.88\" y=\"-68.7\" font-family=\"Times,serif\" font-size=\"14.00\">data 2.0000</text>\n",
       "<polyline fill=\"none\" stroke=\"black\" points=\"110.75,-56 110.75,-91.5\"/>\n",
       "<text text-anchor=\"middle\" x=\"153.62\" y=\"-68.7\" font-family=\"Times,serif\" font-size=\"14.00\">grad &#45;0.2120</text>\n",
       "</g>\n",
       "<!-- 140179417835264&#45;&gt;140179417836272* -->\n",
       "<g id=\"edge6\" class=\"edge\">\n",
       "<title>140179417835264&#45;&gt;140179417836272*</title>\n",
       "<path fill=\"none\" stroke=\"black\" d=\"M196.76,-73.5C205.77,-73.5 214.47,-73.5 222.4,-73.5\"/>\n",
       "<polygon fill=\"black\" stroke=\"black\" points=\"222.25,-77 232.25,-73.5 222.25,-70 222.25,-77\"/>\n",
       "</g>\n",
       "<!-- 140179417834736 -->\n",
       "<g id=\"node8\" class=\"node\">\n",
       "<title>140179417834736</title>\n",
       "<polygon fill=\"none\" stroke=\"black\" points=\"0,-0.5 0,-36.5 198,-36.5 198,-0.5 0,-0.5\"/>\n",
       "<text text-anchor=\"middle\" x=\"16.25\" y=\"-13.7\" font-family=\"Times,serif\" font-size=\"14.00\">w1</text>\n",
       "<polyline fill=\"none\" stroke=\"black\" points=\"32.5,-1 32.5,-36.5\"/>\n",
       "<text text-anchor=\"middle\" x=\"74.62\" y=\"-13.7\" font-family=\"Times,serif\" font-size=\"14.00\">data &#45;3.0000</text>\n",
       "<polyline fill=\"none\" stroke=\"black\" points=\"116.75,-1 116.75,-36.5\"/>\n",
       "<text text-anchor=\"middle\" x=\"157.38\" y=\"-13.7\" font-family=\"Times,serif\" font-size=\"14.00\">grad 0.1413</text>\n",
       "</g>\n",
       "<!-- 140179417834736&#45;&gt;140179417836272* -->\n",
       "<g id=\"edge14\" class=\"edge\">\n",
       "<title>140179417834736&#45;&gt;140179417836272*</title>\n",
       "<path fill=\"none\" stroke=\"black\" d=\"M168.91,-36.94C178.74,-39.93 188.67,-43.15 198,-46.5 207.96,-50.07 218.58,-54.47 228.18,-58.68\"/>\n",
       "<polygon fill=\"black\" stroke=\"black\" points=\"226.54,-61.78 237.1,-62.67 229.4,-55.39 226.54,-61.78\"/>\n",
       "</g>\n",
       "<!-- 140179417835840 -->\n",
       "<g id=\"node9\" class=\"node\">\n",
       "<title>140179417835840</title>\n",
       "<polygon fill=\"none\" stroke=\"black\" points=\"326.25,-110.5 326.25,-146.5 533.25,-146.5 533.25,-110.5 326.25,-110.5\"/>\n",
       "<text text-anchor=\"middle\" x=\"349.25\" y=\"-123.7\" font-family=\"Times,serif\" font-size=\"14.00\">x2w2</text>\n",
       "<polyline fill=\"none\" stroke=\"black\" points=\"372.25,-111 372.25,-146.5\"/>\n",
       "<text text-anchor=\"middle\" x=\"412.12\" y=\"-123.7\" font-family=\"Times,serif\" font-size=\"14.00\">data 0.0000</text>\n",
       "<polyline fill=\"none\" stroke=\"black\" points=\"452,-111 452,-146.5\"/>\n",
       "<text text-anchor=\"middle\" x=\"492.62\" y=\"-123.7\" font-family=\"Times,serif\" font-size=\"14.00\">grad 0.0707</text>\n",
       "</g>\n",
       "<!-- 140179417835840&#45;&gt;140179417835888+ -->\n",
       "<g id=\"edge13\" class=\"edge\">\n",
       "<title>140179417835840&#45;&gt;140179417835888+</title>\n",
       "<path fill=\"none\" stroke=\"black\" d=\"M533.51,-111.25C543.16,-109.62 552.45,-108.06 560.82,-106.66\"/>\n",
       "<polygon fill=\"black\" stroke=\"black\" points=\"561.2,-110.15 570.48,-105.04 560.04,-103.24 561.2,-110.15\"/>\n",
       "</g>\n",
       "<!-- 140179417835840*&#45;&gt;140179417835840 -->\n",
       "<g id=\"edge3\" class=\"edge\">\n",
       "<title>140179417835840*&#45;&gt;140179417835840</title>\n",
       "<path fill=\"none\" stroke=\"black\" d=\"M288.42,-128.5C296.08,-128.5 304.96,-128.5 314.47,-128.5\"/>\n",
       "<polygon fill=\"black\" stroke=\"black\" points=\"314.37,-132 324.37,-128.5 314.37,-125 314.37,-132\"/>\n",
       "</g>\n",
       "<!-- 140179417835360 -->\n",
       "<g id=\"node11\" class=\"node\">\n",
       "<title>140179417835360</title>\n",
       "<polygon fill=\"none\" stroke=\"black\" points=\"2.25,-110.5 2.25,-146.5 195.75,-146.5 195.75,-110.5 2.25,-110.5\"/>\n",
       "<text text-anchor=\"middle\" x=\"18.5\" y=\"-123.7\" font-family=\"Times,serif\" font-size=\"14.00\">w2</text>\n",
       "<polyline fill=\"none\" stroke=\"black\" points=\"34.75,-111 34.75,-146.5\"/>\n",
       "<text text-anchor=\"middle\" x=\"74.62\" y=\"-123.7\" font-family=\"Times,serif\" font-size=\"14.00\">data 1.0000</text>\n",
       "<polyline fill=\"none\" stroke=\"black\" points=\"114.5,-111 114.5,-146.5\"/>\n",
       "<text text-anchor=\"middle\" x=\"155.12\" y=\"-123.7\" font-family=\"Times,serif\" font-size=\"14.00\">grad 0.0000</text>\n",
       "</g>\n",
       "<!-- 140179417835360&#45;&gt;140179417835840* -->\n",
       "<g id=\"edge9\" class=\"edge\">\n",
       "<title>140179417835360&#45;&gt;140179417835840*</title>\n",
       "<path fill=\"none\" stroke=\"black\" d=\"M195.84,-128.5C205.14,-128.5 214.15,-128.5 222.32,-128.5\"/>\n",
       "<polygon fill=\"black\" stroke=\"black\" points=\"222.13,-132 232.13,-128.5 222.13,-125 222.13,-132\"/>\n",
       "</g>\n",
       "<!-- 140179417835888 -->\n",
       "<g id=\"node12\" class=\"node\">\n",
       "<title>140179417835888</title>\n",
       "<polygon fill=\"none\" stroke=\"black\" points=\"661.5,-82.5 661.5,-118.5 918.75,-118.5 918.75,-82.5 661.5,-82.5\"/>\n",
       "<text text-anchor=\"middle\" x=\"707.38\" y=\"-95.7\" font-family=\"Times,serif\" font-size=\"14.00\">x1w1 + x2w2</text>\n",
       "<polyline fill=\"none\" stroke=\"black\" points=\"753.25,-83 753.25,-118.5\"/>\n",
       "<text text-anchor=\"middle\" x=\"795.38\" y=\"-95.7\" font-family=\"Times,serif\" font-size=\"14.00\">data &#45;6.0000</text>\n",
       "<polyline fill=\"none\" stroke=\"black\" points=\"837.5,-83 837.5,-118.5\"/>\n",
       "<text text-anchor=\"middle\" x=\"878.12\" y=\"-95.7\" font-family=\"Times,serif\" font-size=\"14.00\">grad 0.0707</text>\n",
       "</g>\n",
       "<!-- 140179417835888&#45;&gt;140179682303952+ -->\n",
       "<g id=\"edge12\" class=\"edge\">\n",
       "<title>140179417835888&#45;&gt;140179682303952+</title>\n",
       "<path fill=\"none\" stroke=\"black\" d=\"M916.29,-82.02C926.15,-80.56 935.53,-79.18 943.92,-77.94\"/>\n",
       "<polygon fill=\"black\" stroke=\"black\" points=\"944.19,-81.44 953.58,-76.51 943.17,-74.51 944.19,-81.44\"/>\n",
       "</g>\n",
       "<!-- 140179417835888+&#45;&gt;140179417835888 -->\n",
       "<g id=\"edge4\" class=\"edge\">\n",
       "<title>140179417835888+&#45;&gt;140179417835888</title>\n",
       "<path fill=\"none\" stroke=\"black\" d=\"M625.87,-100.5C632.88,-100.5 640.96,-100.5 649.7,-100.5\"/>\n",
       "<polygon fill=\"black\" stroke=\"black\" points=\"649.57,-104 659.57,-100.5 649.57,-97 649.57,-104\"/>\n",
       "</g>\n",
       "<!-- 140179682303952 -->\n",
       "<g id=\"node14\" class=\"node\">\n",
       "<title>140179682303952</title>\n",
       "<polygon fill=\"none\" stroke=\"black\" points=\"1044.75,-54.5 1044.75,-90.5 1228.5,-90.5 1228.5,-54.5 1044.75,-54.5\"/>\n",
       "<text text-anchor=\"middle\" x=\"1056.12\" y=\"-67.7\" font-family=\"Times,serif\" font-size=\"14.00\">n</text>\n",
       "<polyline fill=\"none\" stroke=\"black\" points=\"1067.5,-55 1067.5,-90.5\"/>\n",
       "<text text-anchor=\"middle\" x=\"1107.38\" y=\"-67.7\" font-family=\"Times,serif\" font-size=\"14.00\">data 2.0000</text>\n",
       "<polyline fill=\"none\" stroke=\"black\" points=\"1147.25,-55 1147.25,-90.5\"/>\n",
       "<text text-anchor=\"middle\" x=\"1187.88\" y=\"-67.7\" font-family=\"Times,serif\" font-size=\"14.00\">grad 0.0707</text>\n",
       "</g>\n",
       "<!-- 140179682303952&#45;&gt;140179682302560tanh -->\n",
       "<g id=\"edge7\" class=\"edge\">\n",
       "<title>140179682303952&#45;&gt;140179682302560tanh</title>\n",
       "<path fill=\"none\" stroke=\"black\" d=\"M1228.76,-72.5C1237.14,-72.5 1245.27,-72.5 1252.73,-72.5\"/>\n",
       "<polygon fill=\"black\" stroke=\"black\" points=\"1252.7,-76 1262.7,-72.5 1252.7,-69 1252.7,-76\"/>\n",
       "</g>\n",
       "<!-- 140179682303952+&#45;&gt;140179682303952 -->\n",
       "<g id=\"edge5\" class=\"edge\">\n",
       "<title>140179682303952+&#45;&gt;140179682303952</title>\n",
       "<path fill=\"none\" stroke=\"black\" d=\"M1009.03,-72.5C1016.17,-72.5 1024.36,-72.5 1033.07,-72.5\"/>\n",
       "<polygon fill=\"black\" stroke=\"black\" points=\"1032.81,-76 1042.81,-72.5 1032.81,-69 1032.81,-76\"/>\n",
       "</g>\n",
       "</g>\n",
       "</svg>\n"
      ],
      "text/plain": [
       "<graphviz.graphs.Digraph at 0x7f7e10674d90>"
      ]
     },
     "execution_count": 85,
     "metadata": {},
     "output_type": "execute_result"
    }
   ],
   "source": [
    "draw_dot(o)"
   ]
  },
  {
   "cell_type": "code",
   "execution_count": 84,
   "metadata": {},
   "outputs": [],
   "source": [
    "o.grad = 1.0\n",
    "n.grad = 1- o.data**2\n",
    "b.grad = n.grad\n",
    "x1w1x2w2.grad = n.grad\n",
    "x1w1.grad = x1w1x2w2.grad\n",
    "x2w2.grad = x1w1x2w2.grad\n",
    "x2.grad = x2w2.grad * w2.data\n",
    "w2.grad = x2w2.grad * x2.data\n",
    "x1.grad = x1w1.grad * w1.data\n",
    "w1.grad = x1w1.grad * x1.data\n"
   ]
  }
 ],
 "metadata": {
  "kernelspec": {
   "display_name": "dl_101",
   "language": "python",
   "name": "python3"
  },
  "language_info": {
   "codemirror_mode": {
    "name": "ipython",
    "version": 3
   },
   "file_extension": ".py",
   "mimetype": "text/x-python",
   "name": "python",
   "nbconvert_exporter": "python",
   "pygments_lexer": "ipython3",
   "version": "3.9.12"
  }
 },
 "nbformat": 4,
 "nbformat_minor": 2
}
