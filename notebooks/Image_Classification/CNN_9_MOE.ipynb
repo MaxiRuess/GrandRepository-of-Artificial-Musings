{
 "cells": [
  {
   "cell_type": "code",
   "execution_count": 23,
   "metadata": {},
   "outputs": [],
   "source": [
    "import torch\n",
    "import numpy as np\n",
    "import torch.nn as nn\n",
    "from torch.distributions import Normal\n",
    "import torch.optim as optim\n",
    "import torchvision\n",
    "import torchvision.transforms as transforms\n",
    "from helper import set_device, set_deterministic, build_dataloaders_cifar"
   ]
  },
  {
   "cell_type": "code",
   "execution_count": 43,
   "metadata": {},
   "outputs": [],
   "source": [
    "class SparseDispatcher(object): \n",
    "    \n",
    "    def __init__(self, num_experts, gates):\n",
    "        # Intialize the dispatcher with the number of experts and the gates\n",
    "        self._gates = gates\n",
    "        self._num_experts = num_experts\n",
    "        # sort experts\n",
    "        sorted_experts, index_sorted_experts = torch.nonzero(gates).sort(0)\n",
    "        _, self._expert_index = sorted_experts.split(1, dim=1)\n",
    "        self._batch_index = torch.nonzero(gates)[index_sorted_experts[:, 1], 0]\n",
    "        # calculate num samples that each expert gets\n",
    "        self._part_sizes = (gates > 0).sum(0).tolist()\n",
    "        # expand gates to match with self._batch_index\n",
    "        gates_exp = gates[self._batch_index.flatten()]\n",
    "        self._nonzero_gates = torch.gather(gates_exp, 1, self._expert_index)\n",
    "        \n",
    "    def dispatch(self, inp):\n",
    "        \"\"\"\n",
    "        Creates one input tensor per expert.\n",
    "        \"\"\"\n",
    "        \n",
    "        inp_exp = inp[self._batch_index].squeeze(1)\n",
    "        return torch.split(inp_exp, self._part_sizes, dim=0)\n",
    "    \n",
    "    \n",
    "    def combine(self, expert_out, multiply_by_gates=True): \n",
    "        \"\"\"\n",
    "        Aggregates the outputs from the experts.\n",
    "        \"\"\"\n",
    "        \n",
    "        stiched = torch.cat(expert_out, dim=0)\n",
    "        \n",
    "        if multiply_by_gates:\n",
    "            # Weight the outputs by the gates\n",
    "            stiched = stiched.mul(self._nonzero_gates)\n",
    "        \n",
    "        # Create a tensor of zeros with the same size as the output of the experts to store the combined output\n",
    "        zeros = torch.zeros(self._gates.size(0), expert_out[-1].size(1), requires_grad=True, device=stiched.device)\n",
    "        # combine samples that have been processed by the same k experts\n",
    "        combined = zeros.index_add(0, self._batch_index, stiched.float())\n",
    "        \n",
    "        return combined\n",
    "    \n",
    "    def expert_to_gates(self ): \n",
    "        return torch.split(self._nonzero_gates, self._part_sizes, dim=0)\n",
    "\n",
    "\n",
    "        "
   ]
  },
  {
   "cell_type": "code",
   "execution_count": 45,
   "metadata": {},
   "outputs": [],
   "source": [
    "class MultiLayerPerc(nn.Module): \n",
    "    def __init__(self, input_size, output_size, hidden_size): \n",
    "        super(MultiLayerPerc, self).__init__()\n",
    "        \n",
    "        self.layer = nn.Sequential(\n",
    "            nn.Linear(input_size, hidden_size),\n",
    "            nn.ReLU(),\n",
    "            nn.Linear(hidden_size, output_size),\n",
    "            nn.ReLU(),\n",
    "            nn.Softmax(dim=1)\n",
    "        )\n",
    "        \n",
    "    def forward(self, x): \n",
    "        return self.layer(x)"
   ]
  },
  {
   "cell_type": "code",
   "execution_count": 51,
   "metadata": {},
   "outputs": [],
   "source": [
    "class MoE(nn.Module): \n",
    "    def __init__(self, input_size, output_size, hidden_size, num_expert, noisy_gating=True, k = 4):\n",
    "        super(MoE, self).__init__()\n",
    "        \n",
    "        self.input_size = input_size\n",
    "        self.output_size = output_size\n",
    "        self.hidden_size = hidden_size\n",
    "        self.noisy_gating = noisy_gating\n",
    "        self.num_expert = num_expert\n",
    "        self.k = k\n",
    "        \n",
    "        self.expert = nn.ModuleList([MultiLayerPerc(self.input_size, self.output_size, self.hidden_size) for i in range(self.num_expert)])\n",
    "        self.w_gates = nn.Parameter(torch.zeros(self.input_size, self.num_expert), requires_grad=True)\n",
    "        self.w_noise = nn.Parameter(torch.zeros(self.input_size, self.num_expert), requires_grad=True)\n",
    "        \n",
    "        self.softplus = nn.Softplus()\n",
    "        self.softmax = nn.Softmax(dim=1)\n",
    "        self.register_buffer(\"mean\", torch.tensor([0.0]))\n",
    "        self.register_buffer(\"std\", torch.tensor([1.0]))\n",
    "        \n",
    "        assert (self.k <= self.num_expert)\n",
    "        \n",
    "    def cv_squared(self, x):\n",
    "        \"\"\"\n",
    "        Coefficient of variation squared\n",
    "        \"\"\"\n",
    "        eps = 1e-10\n",
    "        \n",
    "        if x.shape[0] == 1:\n",
    "            return torch.tensor([0], device = x.device, dtype= x.dtype)\n",
    "        \n",
    "        return x.float().var() / (x.float().mean()**2 + eps)\n",
    "    \n",
    "    def _gates_to_load(self, gates): \n",
    "        \n",
    "        return torch.sum(gates > 0, dim=0)\n",
    "    \n",
    "    def _prob_in_top_k(self, clean_values, noisy_values, noise_stddev, noisy_top_values):\n",
    "        \n",
    "        batch = clean_values.size(0)\n",
    "        m = noisy_top_values.size(1)\n",
    "        top_values_flat = noisy_top_values.flatten()\n",
    "        \n",
    "        threshold_positions_if_in = torch.arange(batch, device =clean_values.device) * m + self.k \n",
    "        threshold_if_in = torch.unsqueeze(torch.gather(top_values_flat, 0, threshold_positions_if_in), 1)\n",
    "        is_in = torch.gt(noisy_values, threshold_if_in)\n",
    "        threshold_positions_if_out = threshold_positions_if_in - 1\n",
    "        threshold_if_out = torch.unsqueeze(torch.gather(top_values_flat, 0, threshold_positions_if_out), 1)\n",
    "        # is each value currently in the top k.\n",
    "        normal = Normal(self.mean, self.std)\n",
    "        prob_if_in = normal.cdf((clean_values - threshold_if_in)/noise_stddev)\n",
    "        prob_if_out = normal.cdf((clean_values - threshold_if_out)/noise_stddev)\n",
    "        \n",
    "        prob = torch.where(is_in, prob_if_in, prob_if_out)\n",
    "        return prob\n",
    "    \n",
    "    def noisy_top_k_gating(self, x, train, noise_eps = 1e-2): \n",
    "        \n",
    "        clean_logits = torch.matmul(x, self.w_gates)\n",
    "        if self.noisy_gating and train: \n",
    "            raw_noise_stdev = x @ self.w_noise\n",
    "            noise_stdev = ((self.softplus(raw_noise_stdev) + noise_eps))\n",
    "            noisy_logits = clean_logits + (torch.randn_like(clean_logits) * noise_stdev) \n",
    "            logits = noisy_logits\n",
    "        else:\n",
    "            logits = clean_logits\n",
    "            \n",
    "        \n",
    "        top_logits, top_indices = logits.topk(min(self.k + 1 , self.num_expert), dim=1)\n",
    "        top_k_logits = top_logits[:, :self.k]\n",
    "        top_k_indices = top_indices[:, :self.k]\n",
    "        top_k_gate = self.softmax(top_k_logits)\n",
    "        \n",
    "        zeros = torch.zeros_like(logits, requires_grad=True)\n",
    "        gates = zeros.scatter(1, top_k_indices, top_k_gate)\n",
    "        \n",
    "        if self.noisy_gating and self.k < self.num_expert and train: \n",
    "            load = (self._prob_in_top_k(clean_logits, noisy_logits, noise_stdev, top_logits)).sum(0)\n",
    "        else:\n",
    "            load = self._gates_to_load(gates)\n",
    "            \n",
    "        return gates, load\n",
    "    \n",
    "    \n",
    "    def forward(self, x, loss_coef = 1e-2): \n",
    "        \n",
    "        gates, load = self.noisy_top_k_gating(x, self.training)\n",
    "        importance = gates.sum(0)\n",
    "        \n",
    "        loss = self.cv_squared(importance) + loss_coef * self.cv_squared(load)\n",
    "        loss *= loss_coef \n",
    "        \n",
    "        dispatcher = SparseDispatcher(self.num_expert, gates)\n",
    "        expert_in = dispatcher.dispatch(x)\n",
    "        gates = dispatcher.expert_to_gates()\n",
    "        \n",
    "        expert_out = [self.expert[i](expert_in[i]) for i in range(self.num_expert)]\n",
    "        y = dispatcher.combine(expert_out)\n",
    "        \n",
    "        return y, loss\n",
    "        \n",
    "        \n",
    "        "
   ]
  },
  {
   "cell_type": "code",
   "execution_count": 7,
   "metadata": {},
   "outputs": [
    {
     "name": "stdout",
     "output_type": "stream",
     "text": [
      "PyTorch version: 2.2.2\n",
      "Is MPS (Metal Performance Shader) built? True\n",
      "Is MPS available? True\n",
      "Using device: mps\n",
      "Set deterministic behavior\n"
     ]
    }
   ],
   "source": [
    "device = set_device()\n",
    "set_deterministic()"
   ]
  },
  {
   "cell_type": "code",
   "execution_count": 9,
   "metadata": {},
   "outputs": [],
   "source": [
    "transform = transforms.Compose([\n",
    "    transforms.ToTensor(),\n",
    "    transforms.Normalize((0.5, 0.5, 0.5), (0.5, 0.5, 0.5))\n",
    "])\n"
   ]
  },
  {
   "cell_type": "code",
   "execution_count": 10,
   "metadata": {},
   "outputs": [
    {
     "name": "stdout",
     "output_type": "stream",
     "text": [
      "Files already downloaded and verified\n",
      "Files already downloaded and verified\n",
      "Files already downloaded and verified\n"
     ]
    },
    {
     "data": {
      "text/plain": [
       "(782,\n",
       " 157,\n",
       " ['airplane',\n",
       "  'automobile',\n",
       "  'bird',\n",
       "  'cat',\n",
       "  'deer',\n",
       "  'dog',\n",
       "  'frog',\n",
       "  'horse',\n",
       "  'ship',\n",
       "  'truck'])"
      ]
     },
     "execution_count": 10,
     "metadata": {},
     "output_type": "execute_result"
    }
   ],
   "source": [
    "train_dataloader, test_dataloader, test_dataset_viz, class_names = build_dataloaders_cifar(\n",
    "                                                                                        data_path='../../data', \n",
    "                                                                                        train_transforms=transform,\n",
    "                                                                                        test_transforms=transform,\n",
    "                                                                                        batch_size=64,\n",
    "                                                                                        num_workers=10)\n",
    "\n",
    "\n",
    "len(train_dataloader), len(test_dataloader), class_names"
   ]
  },
  {
   "cell_type": "code",
   "execution_count": 52,
   "metadata": {},
   "outputs": [
    {
     "data": {
      "text/plain": [
       "MoE(\n",
       "  (expert): ModuleList(\n",
       "    (0-9): 10 x MultiLayerPerc(\n",
       "      (layer): Sequential(\n",
       "        (0): Linear(in_features=3072, out_features=128, bias=True)\n",
       "        (1): ReLU()\n",
       "        (2): Linear(in_features=128, out_features=10, bias=True)\n",
       "        (3): ReLU()\n",
       "        (4): Softmax(dim=1)\n",
       "      )\n",
       "    )\n",
       "  )\n",
       "  (softplus): Softplus(beta=1, threshold=20)\n",
       "  (softmax): Softmax(dim=1)\n",
       ")"
      ]
     },
     "execution_count": 52,
     "metadata": {},
     "output_type": "execute_result"
    }
   ],
   "source": [
    "model = MoE(input_size = 3072, output_size = 10, hidden_size = 128, num_expert = 10, noisy_gating = True,  k = 4)\n",
    "model.to(device)\n",
    "model"
   ]
  },
  {
   "cell_type": "code",
   "execution_count": 29,
   "metadata": {},
   "outputs": [
    {
     "name": "stdout",
     "output_type": "stream",
     "text": [
      "1639976\n"
     ]
    }
   ],
   "source": [
    "paramaters = model.parameters()\n",
    "print(sum(p.numel() for p in paramaters))"
   ]
  },
  {
   "cell_type": "code",
   "execution_count": 58,
   "metadata": {},
   "outputs": [
    {
     "name": "stdout",
     "output_type": "stream",
     "text": [
      "Epoch: 1, Batch: 200, Loss: 2.061523683667183\n",
      "Epoch: 1, Batch: 400, Loss: 2.05779194355011\n",
      "Epoch: 1, Batch: 600, Loss: 2.0687936210632323\n",
      "Epoch: 2, Batch: 200, Loss: 2.045137097835541\n",
      "Epoch: 2, Batch: 400, Loss: 2.0466869968175887\n",
      "Epoch: 2, Batch: 600, Loss: 2.046202701330185\n",
      "Epoch: 3, Batch: 200, Loss: 2.038960137963295\n",
      "Epoch: 3, Batch: 400, Loss: 2.035447992682457\n",
      "Epoch: 3, Batch: 600, Loss: 2.0331110072135927\n",
      "Finished Training\n"
     ]
    }
   ],
   "source": [
    "criterion = nn.CrossEntropyLoss()\n",
    "optimizer = optim.Adam(model.parameters(), lr=0.001)\n",
    "\n",
    "model.train()\n",
    "\n",
    "for epoch in range(3): \n",
    "    \n",
    "    running_loss = 0.0\n",
    "    loss_i = []\n",
    "    for i, data in enumerate(train_dataloader, 0): \n",
    "        \n",
    "        inputs, labels = data\n",
    "        inputs, labels = inputs.to(device), labels.to(device)\n",
    "        \n",
    "        optimizer.zero_grad()\n",
    "        \n",
    "        inputs = inputs.view(inputs.shape[0], -1)\n",
    "        outputs, aux_loss = model(inputs)\n",
    "        loss = criterion(outputs, labels) + aux_loss\n",
    "        loss.backward()\n",
    "        \n",
    "        optimizer.step()\n",
    "        \n",
    "        running_loss += loss.item()\n",
    "        \n",
    "        if i % 200 == 199: \n",
    "            print(f\"Epoch: {epoch + 1}, Batch: {i + 1}, Loss: {running_loss / 200}\")\n",
    "            running_loss = 0.0\n",
    "            \n",
    "        loss_i.append(loss.item())\n",
    "            \n",
    "print(\"Finished Training\")\n",
    "\n"
   ]
  },
  {
   "cell_type": "code",
   "execution_count": 59,
   "metadata": {},
   "outputs": [
    {
     "data": {
      "text/plain": [
       "[<matplotlib.lines.Line2D at 0x7fbfe12d2460>]"
      ]
     },
     "execution_count": 59,
     "metadata": {},
     "output_type": "execute_result"
    },
    {
     "data": {
      "image/png": "[encoded data removed]",
      "text/plain": [
       "<Figure size 640x480 with 1 Axes>"
      ]
     },
     "metadata": {},
     "output_type": "display_data"
    }
   ],
   "source": [
    "import matplotlib.pyplot as plt\n",
    "plt.plot(loss_i)"
   ]
  },
  {
   "cell_type": "code",
   "execution_count": 60,
   "metadata": {},
   "outputs": [
    {
     "name": "stdout",
     "output_type": "stream",
     "text": [
      "Accuracy of the network on the 10000 test images: 41.01\n"
     ]
    }
   ],
   "source": [
    "correct = 0 \n",
    "total = 0 \n",
    "model.eval()\n",
    "with torch.no_grad(): \n",
    "    for data in test_dataloader: \n",
    "        inputs, labels = data\n",
    "        inputs, labels = inputs.to(device), labels.to(device)\n",
    "        inputs = inputs.view(inputs.shape[0], -1)\n",
    "        outputs, _ = model(inputs)\n",
    "        _, predicted = torch.max(outputs.data, 1)\n",
    "        total += labels.size(0)\n",
    "        correct += (predicted == labels).sum().item()\n",
    "        \n",
    "print(f\"Accuracy of the network on the 10000 test images: {100 * correct / total}\")"
   ]
  }
 ],
 "metadata": {
  "kernelspec": {
   "display_name": "dl_101",
   "language": "python",
   "name": "python3"
  },
  "language_info": {
   "codemirror_mode": {
    "name": "ipython",
    "version": 3
   },
   "file_extension": ".py",
   "mimetype": "text/x-python",
   "name": "python",
   "nbconvert_exporter": "python",
   "pygments_lexer": "ipython3",
   "version": "3.9.12"
  }
 },
 "nbformat": 4,
 "nbformat_minor": 2
}
