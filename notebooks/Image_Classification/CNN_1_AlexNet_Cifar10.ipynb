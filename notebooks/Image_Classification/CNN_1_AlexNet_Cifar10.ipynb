{
 "cells": [
  {
   "cell_type": "code",
   "execution_count": 29,
   "metadata": {},
   "outputs": [],
   "source": [
    "import torch.nn as nn\n",
    "import os\n",
    "import torch.nn.functional as F\n",
    "from collections import Counter\n",
    "from torchvision import transforms, datasets\n",
    "import torchvision\n",
    "import torchmetrics\n",
    "from torch.utils.data import DataLoader\n",
    "from torch.utils.data.dataset import random_split\n",
    "import torch\n",
    "import matplotlib.pyplot as plt\n",
    "import numpy as np\n",
    "from torchmetrics import ConfusionMatrix\n",
    "from mlxtend.plotting import plot_confusion_matrix\n",
    "from helper import set_deterministic, set_device, build_dataloaders_cifar, train_model, evaluate_model\n",
    "from tqdm import tqdm \n",
    "\n",
    "import time\n",
    "from torchinfo import summary"
   ]
  },
  {
   "cell_type": "markdown",
   "metadata": {},
   "source": [
    "# 1. Set Seed, Determinism & Device"
   ]
  },
  {
   "cell_type": "code",
   "execution_count": 2,
   "metadata": {},
   "outputs": [
    {
     "name": "stdout",
     "output_type": "stream",
     "text": [
      "PyTorch version: 2.2.2\n",
      "Is MPS (Metal Performance Shader) built? True\n",
      "Is MPS available? True\n",
      "Using device: mps\n"
     ]
    }
   ],
   "source": [
    "device = set_device()"
   ]
  },
  {
   "cell_type": "code",
   "execution_count": 3,
   "metadata": {},
   "outputs": [
    {
     "name": "stdout",
     "output_type": "stream",
     "text": [
      "Set deterministic behavior\n"
     ]
    }
   ],
   "source": [
    "set_deterministic()"
   ]
  },
  {
   "cell_type": "code",
   "execution_count": 34,
   "metadata": {},
   "outputs": [],
   "source": [
    "BATCH_SIZE = 128\n",
    "NUM_EPOCHS = 5\n",
    "LEARNING_RATE = 0.01\n",
    "NUM_WORKERS = 10\n",
    "RANDOM_SEED = 42\n",
    "\n",
    "#set_seed(RANDOM_SEED)"
   ]
  },
  {
   "cell_type": "markdown",
   "metadata": {},
   "source": [
    "# 2. Manual Transforms"
   ]
  },
  {
   "cell_type": "code",
   "execution_count": 33,
   "metadata": {},
   "outputs": [],
   "source": [
    "train_transforms = transforms.Compose([\n",
    "    transforms.Resize(size=(256, 256)),\n",
    "    transforms.CenterCrop(224),\n",
    "    transforms.ToTensor(),\n",
    "    transforms.Normalize([0.485, 0.456, 0.406], [0.229, 0.224, 0.225])\n",
    "])\n",
    "\n",
    "test_transforms = transforms.Compose([\n",
    "    transforms.Resize(size=(256, 256)),\n",
    "    transforms.CenterCrop(224),\n",
    "    transforms.ToTensor(),\n",
    "    transforms.Normalize([0.485, 0.456, 0.406], [0.229, 0.224, 0.225])\n",
    "])"
   ]
  },
  {
   "cell_type": "code",
   "execution_count": 35,
   "metadata": {},
   "outputs": [
    {
     "name": "stdout",
     "output_type": "stream",
     "text": [
      "Files already downloaded and verified\n",
      "Files already downloaded and verified\n",
      "Files already downloaded and verified\n"
     ]
    },
    {
     "data": {
      "text/plain": [
       "(391, 79)"
      ]
     },
     "execution_count": 35,
     "metadata": {},
     "output_type": "execute_result"
    }
   ],
   "source": [
    "train_dataloader, test_dataloader, test_dataset_viz, class_names = build_dataloaders_cifar(\n",
    "                                                                            data_path= '../../data',\n",
    "                                                                            train_transforms=train_transforms,\n",
    "                                                                            test_transforms=test_transforms,\n",
    "                                                                            batch_size=BATCH_SIZE,\n",
    "                                                                            num_workers=NUM_WORKERS) \n",
    "\n",
    "len(train_dataloader), len(test_dataloader)               "
   ]
  },
  {
   "cell_type": "code",
   "execution_count": 36,
   "metadata": {},
   "outputs": [
    {
     "data": {
      "text/plain": [
       "['airplane',\n",
       " 'automobile',\n",
       " 'bird',\n",
       " 'cat',\n",
       " 'deer',\n",
       " 'dog',\n",
       " 'frog',\n",
       " 'horse',\n",
       " 'ship',\n",
       " 'truck']"
      ]
     },
     "execution_count": 36,
     "metadata": {},
     "output_type": "execute_result"
    }
   ],
   "source": [
    "class_names"
   ]
  },
  {
   "cell_type": "markdown",
   "metadata": {},
   "source": [
    "# 3. AlexNet Pytorch Model"
   ]
  },
  {
   "cell_type": "code",
   "execution_count": 8,
   "metadata": {},
   "outputs": [],
   "source": [
    "class PyTorchModel(nn.Module):\n",
    "    def __init__(self, num_classes):\n",
    "        super().__init__()\n",
    "        self.features = nn.Sequential(\n",
    "            nn.Conv2d(3, 64, kernel_size=11, stride=4, padding=2),\n",
    "            nn.ReLU(inplace=True),\n",
    "            nn.MaxPool2d(kernel_size=3, stride=2),\n",
    "            nn.Conv2d(64, 192, kernel_size=5, padding=2),\n",
    "            nn.ReLU(inplace=True),\n",
    "            nn.MaxPool2d(kernel_size=3, stride=2),\n",
    "            nn.Conv2d(192, 384, kernel_size=3, padding=1),\n",
    "            nn.ReLU(inplace=True),\n",
    "            nn.Conv2d(384, 256, kernel_size=3, padding=1),\n",
    "            nn.ReLU(inplace=True),\n",
    "            nn.Conv2d(256, 256, kernel_size=3, padding=1),\n",
    "            nn.ReLU(inplace=True),\n",
    "            nn.MaxPool2d(kernel_size=3, stride=2),\n",
    "        )\n",
    "        self.avgpool = nn.AdaptiveAvgPool2d((6, 6))\n",
    "        self.classifier = nn.Sequential(\n",
    "            nn.Dropout(0.5),\n",
    "            nn.Linear(256 * 6 * 6, 4096),\n",
    "            nn.ReLU(inplace=True),\n",
    "            nn.Dropout(0.5),\n",
    "            nn.Linear(4096, 4096),\n",
    "            nn.ReLU(inplace=True),\n",
    "            nn.Linear(4096, num_classes)\n",
    "        )\n",
    "\n",
    "    def forward(self, x):\n",
    "        x = self.features(x)\n",
    "        x = self.avgpool(x)\n",
    "        x = torch.flatten(x, start_dim=1)\n",
    "        logits = self.classifier(x)\n",
    "        return logits"
   ]
  },
  {
   "cell_type": "code",
   "execution_count": 37,
   "metadata": {},
   "outputs": [
    {
     "data": {
      "text/plain": [
       "========================================================================================================================\n",
       "Layer (type (var_name))                  Input Shape      Output Shape     Param #          Kernel Shape     Trainable\n",
       "========================================================================================================================\n",
       "PyTorchModel (PyTorchModel)              [1, 3, 224, 224] [1, 10]          --               --               True\n",
       "├─Sequential (features)                  [1, 3, 224, 224] [1, 256, 6, 6]   --               --               True\n",
       "│    └─Conv2d (0)                        [1, 3, 224, 224] [1, 64, 55, 55]  23,296           [11, 11]         True\n",
       "│    └─ReLU (1)                          [1, 64, 55, 55]  [1, 64, 55, 55]  --               --               --\n",
       "│    └─MaxPool2d (2)                     [1, 64, 55, 55]  [1, 64, 27, 27]  --               3                --\n",
       "│    └─Conv2d (3)                        [1, 64, 27, 27]  [1, 192, 27, 27] 307,392          [5, 5]           True\n",
       "│    └─ReLU (4)                          [1, 192, 27, 27] [1, 192, 27, 27] --               --               --\n",
       "│    └─MaxPool2d (5)                     [1, 192, 27, 27] [1, 192, 13, 13] --               3                --\n",
       "│    └─Conv2d (6)                        [1, 192, 13, 13] [1, 384, 13, 13] 663,936          [3, 3]           True\n",
       "│    └─ReLU (7)                          [1, 384, 13, 13] [1, 384, 13, 13] --               --               --\n",
       "│    └─Conv2d (8)                        [1, 384, 13, 13] [1, 256, 13, 13] 884,992          [3, 3]           True\n",
       "│    └─ReLU (9)                          [1, 256, 13, 13] [1, 256, 13, 13] --               --               --\n",
       "│    └─Conv2d (10)                       [1, 256, 13, 13] [1, 256, 13, 13] 590,080          [3, 3]           True\n",
       "│    └─ReLU (11)                         [1, 256, 13, 13] [1, 256, 13, 13] --               --               --\n",
       "│    └─MaxPool2d (12)                    [1, 256, 13, 13] [1, 256, 6, 6]   --               3                --\n",
       "├─AdaptiveAvgPool2d (avgpool)            [1, 256, 6, 6]   [1, 256, 6, 6]   --               --               --\n",
       "├─Sequential (classifier)                [1, 9216]        [1, 10]          --               --               True\n",
       "│    └─Dropout (0)                       [1, 9216]        [1, 9216]        --               --               --\n",
       "│    └─Linear (1)                        [1, 9216]        [1, 4096]        37,752,832       --               True\n",
       "│    └─ReLU (2)                          [1, 4096]        [1, 4096]        --               --               --\n",
       "│    └─Dropout (3)                       [1, 4096]        [1, 4096]        --               --               --\n",
       "│    └─Linear (4)                        [1, 4096]        [1, 4096]        16,781,312       --               True\n",
       "│    └─ReLU (5)                          [1, 4096]        [1, 4096]        --               --               --\n",
       "│    └─Linear (6)                        [1, 4096]        [1, 10]          40,970           --               True\n",
       "========================================================================================================================\n",
       "Total params: 57,044,810\n",
       "Trainable params: 57,044,810\n",
       "Non-trainable params: 0\n",
       "Total mult-adds (M): 710.63\n",
       "========================================================================================================================\n",
       "Input size (MB): 0.60\n",
       "Forward/backward pass size (MB): 3.95\n",
       "Params size (MB): 228.18\n",
       "Estimated Total Size (MB): 232.73\n",
       "========================================================================================================================"
      ]
     },
     "execution_count": 37,
     "metadata": {},
     "output_type": "execute_result"
    }
   ],
   "source": [
    "pytorch_model = PyTorchModel(num_classes=len(class_names))\n",
    "\n",
    "summary(pytorch_model, (1, 3, 224, 224), \n",
    "        col_names=[\"input_size\", \"output_size\", \"num_params\", \"kernel_size\", \"trainable\"],\n",
    "        col_width=16,\n",
    "        row_settings=['var_names']) \n"
   ]
  },
  {
   "cell_type": "markdown",
   "metadata": {},
   "source": [
    "# 4. Train Model"
   ]
  },
  {
   "cell_type": "code",
   "execution_count": 38,
   "metadata": {},
   "outputs": [],
   "source": [
    "def train_1(model, train_dataloader, test_dataloader, epochs, criterion, optimizer, device, scheduler = None):\n",
    "    \"\"\"\n",
    "    This function trains the model\n",
    "    \n",
    "    Parameters\n",
    "    ----------\n",
    "    model: nn.Module\n",
    "    train_dataloader: DataLoader\n",
    "    test_dataloader: DataLoader\n",
    "    epochs: int\n",
    "    criterion: nn.Module\n",
    "    optimizer: nn.Module\n",
    "    device: str\n",
    "    \"\"\"\n",
    "    \n",
    "    model.to(device)\n",
    "    \n",
    "    results = {\"train_loss_per_batch\": [],\n",
    "               \"train_loss_per_epoch\": [],\n",
    "               \"train_acc_per_epoch\": [], \n",
    "               \"val_loss_per_epoch\": [], \n",
    "               \"val_acc_per_epoch\": []}\n",
    "    \n",
    "    for epoch in tqdm(range(epochs)):\n",
    "        model.train()\n",
    "        training_loss, training_acc = 0.0, 0.0\n",
    "        \n",
    "        for batch, (inputs, labels) in enumerate(train_dataloader):\n",
    "            inputs, labels = inputs.to(device), labels.to(device)\n",
    "            \n",
    "            optimizer.zero_grad()\n",
    "            \n",
    "            outputs = model(inputs)\n",
    "            loss = criterion(outputs, labels)\n",
    "            \n",
    "            loss.backward()\n",
    "            optimizer.step()\n",
    "            \n",
    "            results['train_loss_per_batch'].append(loss.item())\n",
    "            training_loss += loss.item()\n",
    "            training_acc += (outputs.argmax(1) == labels).float().mean()\n",
    "            training_acc = training_acc.item()\n",
    "            \n",
    "        scheduler.step()\n",
    "        epoch_loss_tr = training_loss / len(train_dataloader)\n",
    "        epoch_acc_tr = training_acc / len(train_dataloader)\n",
    "        \n",
    "        print(f'Epoch: {epoch} Training Loss: {epoch_loss_tr}, Training Accuracy: {epoch_acc_tr}')\n",
    "        \n",
    "        model.eval()\n",
    "        test_loss, test_acc = 0.0, 0.0\n",
    "        \n",
    "        for batch, (inputs, labels) in enumerate(test_dataloader):\n",
    "            inputs, labels = inputs.to(device), labels.to(device)\n",
    "            \n",
    "            outputs = model(inputs)\n",
    "            loss = criterion(outputs, labels)\n",
    "            \n",
    "            test_loss += loss.item()\n",
    "            test_acc += (outputs.argmax(1) == labels).float().mean()\n",
    "            test_acc = test_acc.item()\n",
    "            \n",
    "        epoch_loss_te = test_loss / len(test_dataloader)\n",
    "        epoch_acc_te = test_acc / len(test_dataloader)\n",
    "        \n",
    "        print(f'Epoch: {epoch} Validation Loss: {epoch_loss_te}, Validation Accuracy: {epoch_acc_te}')\n",
    "    \n",
    "        results['train_loss_per_epoch'].append(epoch_loss_tr)\n",
    "        results['train_acc_per_epoch'].append(epoch_acc_tr)\n",
    "        results['val_loss_per_epoch'].append(epoch_loss_te)\n",
    "        results['val_acc_per_epoch'].append(epoch_acc_te)\n",
    "        \n",
    "    return model, results\n"
   ]
  },
  {
   "cell_type": "code",
   "execution_count": 39,
   "metadata": {},
   "outputs": [
    {
     "name": "stderr",
     "output_type": "stream",
     "text": [
      "  0%|          | 0/5 [00:00<?, ?it/s]"
     ]
    },
    {
     "name": "stdout",
     "output_type": "stream",
     "text": [
      "Epoch: 0 Training Loss: 13657.297491001656, Training Accuracy: 0.0989090512170816\n"
     ]
    },
    {
     "name": "stderr",
     "output_type": "stream",
     "text": [
      " 20%|██        | 1/5 [01:29<05:59, 89.92s/it]"
     ]
    },
    {
     "name": "stdout",
     "output_type": "stream",
     "text": [
      "Epoch: 0 Validation Loss: 2.303139303303972, Validation Accuracy: 0.10096914556962025\n",
      "Epoch: 1 Training Loss: 2.303174138374036, Training Accuracy: 0.10030770850608416\n"
     ]
    },
    {
     "name": "stderr",
     "output_type": "stream",
     "text": [
      " 40%|████      | 2/5 [02:21<03:22, 67.65s/it]"
     ]
    },
    {
     "name": "stdout",
     "output_type": "stream",
     "text": [
      "Epoch: 1 Validation Loss: 2.302990699116188, Validation Accuracy: 0.10027689873417721\n",
      "Epoch: 2 Training Loss: 2.3032611337159294, Training Accuracy: 0.09912484015345269\n"
     ]
    },
    {
     "name": "stderr",
     "output_type": "stream",
     "text": [
      " 60%|██████    | 3/5 [03:14<02:01, 60.95s/it]"
     ]
    },
    {
     "name": "stdout",
     "output_type": "stream",
     "text": [
      "Epoch: 2 Validation Loss: 2.303204119959964, Validation Accuracy: 0.10096914556962025\n",
      "Epoch: 3 Training Loss: 2.3032946501241622, Training Accuracy: 0.09696291169851942\n"
     ]
    },
    {
     "name": "stderr",
     "output_type": "stream",
     "text": [
      " 80%|████████  | 4/5 [04:07<00:57, 57.69s/it]"
     ]
    },
    {
     "name": "stdout",
     "output_type": "stream",
     "text": [
      "Epoch: 3 Validation Loss: 2.3032077867773513, Validation Accuracy: 0.09889240506329114\n",
      "Epoch: 4 Training Loss: 2.303276875439812, Training Accuracy: 0.10013587151646919\n"
     ]
    },
    {
     "name": "stderr",
     "output_type": "stream",
     "text": [
      "100%|██████████| 5/5 [05:04<00:00, 60.86s/it]"
     ]
    },
    {
     "name": "stdout",
     "output_type": "stream",
     "text": [
      "Epoch: 4 Validation Loss: 2.30383529240572, Validation Accuracy: 0.09958465189873418\n"
     ]
    },
    {
     "name": "stderr",
     "output_type": "stream",
     "text": [
      "\n"
     ]
    }
   ],
   "source": [
    "criterion = nn.CrossEntropyLoss()\n",
    "optimizer = torch.optim.Adam(pytorch_model.parameters(), lr=LEARNING_RATE)\n",
    "scheduler = torch.optim.lr_scheduler.StepLR(optimizer, step_size=7, gamma=0.1)\n",
    "\n",
    "pytorch_model, results = train_1(model= pytorch_model,\n",
    "                                     criterion= criterion,\n",
    "                                     optimizer= optimizer,\n",
    "                                     scheduler= scheduler,\n",
    "                                     train_dataloader= train_dataloader,\n",
    "                                     test_dataloader= test_dataloader,\n",
    "                                     epochs= NUM_EPOCHS,\n",
    "                                     device= device)\n"
   ]
  },
  {
   "cell_type": "code",
   "execution_count": 40,
   "metadata": {},
   "outputs": [
    {
     "data": {
      "image/png": "[encoded data removed]",
      "text/plain": [
       "<Figure size 640x480 with 1 Axes>"
      ]
     },
     "metadata": {},
     "output_type": "display_data"
    }
   ],
   "source": [
    "plt.plot(np.arange(1, NUM_EPOCHS+1), results['train_acc_per_epoch'], label='Training')\n",
    "plt.plot(np.arange(1, NUM_EPOCHS+1), results['val_acc_per_epoch'], label='Validation')\n",
    "\n",
    "plt.xlabel('Epoch')\n",
    "plt.ylabel('Accuracy')\n",
    "plt.legend()\n",
    "plt.show()"
   ]
  }
 ],
 "metadata": {
  "kernelspec": {
   "display_name": "dl_101",
   "language": "python",
   "name": "python3"
  },
  "language_info": {
   "codemirror_mode": {
    "name": "ipython",
    "version": 3
   },
   "file_extension": ".py",
   "mimetype": "text/x-python",
   "name": "python",
   "nbconvert_exporter": "python",
   "pygments_lexer": "ipython3",
   "version": "3.9.12"
  }
 },
 "nbformat": 4,
 "nbformat_minor": 2
}
